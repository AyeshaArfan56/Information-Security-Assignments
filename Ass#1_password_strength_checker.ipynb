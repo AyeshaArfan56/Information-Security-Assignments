{
  "cells": [
    {
      "cell_type": "code",
      "execution_count": 1,
      "id": "477f7b1b",
      "metadata": {
        "colab": {
          "base_uri": "https://localhost:8080/"
        },
        "id": "477f7b1b",
        "outputId": "f4681429-a251-431d-9dba-b32c776db091"
      },
      "outputs": [
        {
          "output_type": "stream",
          "name": "stdout",
          "text": [
            "Enter Your Password : Ayesha13@s\n",
            "Output : True\n"
          ]
        }
      ],
      "source": [
        "password = input(\"Enter Your Password : \")\n",
        "\n",
        "def isStrongPassword(password: str) -> bool:\n",
        "    l = 0\n",
        "    u = 0\n",
        "    d = 0\n",
        "    s = 0\n",
        "    if(len(password) < 6 or len(password) > 20):\n",
        "        return False\n",
        "\n",
        "    for i in password:\n",
        "\n",
        "        if (i.islower()):\n",
        "            l+=1\n",
        "\n",
        "        if (i.isupper()):\n",
        "            u+=1\n",
        "\n",
        "        if (i.isdigit()):\n",
        "            d+=1\n",
        "\n",
        "        if (i.isalnum()):\n",
        "            s+=1\n",
        "\n",
        "    if(l == 0 or u == 0 or d == 0 or s == len(password)):\n",
        "\n",
        "        return False\n",
        "\n",
        "\n",
        "    for i in range(len(password)-2):\n",
        "        if(password[i] == password[i+1] and password[i] == password[i+2]):\n",
        "            return False\n",
        "\n",
        "    return True\n",
        "\n",
        "\n",
        "if(isStrongPassword(password)):\n",
        "\n",
        "    print(\"Output : True\")\n",
        "\n",
        "else:\n",
        "    print(\"Output : False\")\n",
        "\n",
        "\n",
        ""
      ]
    }
  ],
  "metadata": {
    "kernelspec": {
      "display_name": "Python 3 (ipykernel)",
      "language": "python",
      "name": "python3"
    },
    "language_info": {
      "codemirror_mode": {
        "name": "ipython",
        "version": 3
      },
      "file_extension": ".py",
      "mimetype": "text/x-python",
      "name": "python",
      "nbconvert_exporter": "python",
      "pygments_lexer": "ipython3",
      "version": "3.9.7"
    },
    "colab": {
      "provenance": []
    }
  },
  "nbformat": 4,
  "nbformat_minor": 5
}